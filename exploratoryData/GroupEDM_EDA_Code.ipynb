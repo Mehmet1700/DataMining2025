{
 "cells": [
  {
   "cell_type": "code",
   "execution_count": 2,
   "id": "c4393480",
   "metadata": {},
   "outputs": [
    {
     "name": "stdout",
     "output_type": "stream",
     "text": [
      "Hello World!\n"
     ]
    }
   ],
   "source": [
    "print(\"Hello World!\")"
   ]
  },
  {
   "cell_type": "markdown",
   "id": "dc34fee1",
   "metadata": {},
   "source": [
    " Data Cleaning\n",
    " Data Visualization\n",
    " Data Interpretation\n",
    "\n",
    "CRISP DM: \n",
    "\n",
    "• Business Understanding: Industry challenges and segmentation needs\n",
    "• Data Understanding: Dataset exploration and quality assessment\n",
    "• Data Preparation: Feature engineering and preprocessing\n",
    "• Modeling: Multi‐perspective clustering analysis\n",
    "• Evaluation: Validation and business interpretation\n",
    "• Deployment: Strategic recommendations and implementation"
   ]
  },
  {
   "cell_type": "markdown",
   "id": "4ed74ed9",
   "metadata": {},
   "source": []
  },
  {
   "cell_type": "markdown",
   "id": "cd668e9d",
   "metadata": {},
   "source": []
  }
 ],
 "metadata": {
  "kernelspec": {
   "display_name": "AOT_Abgaben-WFiKKBlB",
   "language": "python",
   "name": "python3"
  },
  "language_info": {
   "codemirror_mode": {
    "name": "ipython",
    "version": 3
   },
   "file_extension": ".py",
   "mimetype": "text/x-python",
   "name": "python",
   "nbconvert_exporter": "python",
   "pygments_lexer": "ipython3",
   "version": "3.11.11"
  }
 },
 "nbformat": 4,
 "nbformat_minor": 5
}
